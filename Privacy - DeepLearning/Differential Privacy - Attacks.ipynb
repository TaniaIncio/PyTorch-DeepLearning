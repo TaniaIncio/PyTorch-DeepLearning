{
 "cells": [
  {
   "cell_type": "markdown",
   "metadata": {},
   "source": [
    "# Diferential Privacy"
   ]
  },
  {
   "cell_type": "code",
   "execution_count": 30,
   "metadata": {},
   "outputs": [],
   "source": [
    "# Configuration enviroment"
   ]
  },
  {
   "cell_type": "markdown",
   "metadata": {},
   "source": [
    "- conda create -n pysyft python=3\n",
    "- conda activate pysyft # some older version of conda require \"source activate pysyft\" instead.\n",
    "- conda install jupyter notebook\n",
    "- pip install syft\n",
    "- pip install numpy"
   ]
  },
  {
   "cell_type": "code",
   "execution_count": 1,
   "metadata": {},
   "outputs": [
    {
     "data": {
      "text/plain": [
       "tensor([1, 0, 1,  ..., 0, 0, 0], dtype=torch.uint8)"
      ]
     },
     "execution_count": 1,
     "metadata": {},
     "output_type": "execute_result"
    }
   ],
   "source": [
    "import torch\n",
    "\n",
    "num_entries = 3000\n",
    "db = torch.rand(num_entries) > 0.5\n",
    "db"
   ]
  },
  {
   "cell_type": "markdown",
   "metadata": {},
   "source": [
    "To ask the question \"When querying a database, if I removed someone from the database, would the output of the query be any different?\""
   ]
  },
  {
   "cell_type": "markdown",
   "metadata": {},
   "source": [
    "we must construct what we term \"parallel databases\" -> databases with one entry removed."
   ]
  },
  {
   "cell_type": "markdown",
   "metadata": {},
   "source": [
    "## Generate parallel database"
   ]
  },
  {
   "cell_type": "code",
   "execution_count": 5,
   "metadata": {},
   "outputs": [
    {
     "data": {
      "text/plain": [
       "(tensor([1, 0, 0], dtype=torch.uint8),\n",
       " [tensor([0, 0], dtype=torch.uint8),\n",
       "  tensor([1, 0], dtype=torch.uint8),\n",
       "  tensor([1, 0], dtype=torch.uint8)])"
      ]
     },
     "execution_count": 5,
     "metadata": {},
     "output_type": "execute_result"
    }
   ],
   "source": [
    "import torch\n",
    "\n",
    "num_entries = 3000\n",
    "\n",
    "def create_parallel_db(db, num_index):\n",
    "    return torch.cat((db[0:num_index], db[num_index + 1:len(db)]))\n",
    "\n",
    "def create_parallel_dbs(db):\n",
    "    parallel_dbs = list()\n",
    "    for i in range(len(db)):\n",
    "        parallel_dbs.append(create_parallel_db(db, i))\n",
    "    return parallel_dbs\n",
    "\n",
    "def get_db_parallel_dbs(num_entries):\n",
    "    db = torch.rand(num_entries) > 0.5\n",
    "    pdbs = create_parallel_dbs(db)\n",
    "    return db, pdbs\n",
    "\n",
    "db, pdbs = get_db_parallel_dbs(3)\n",
    "db, pdbs"
   ]
  },
  {
   "cell_type": "markdown",
   "metadata": {},
   "source": [
    "## Sensitivy"
   ]
  },
  {
   "cell_type": "code",
   "execution_count": 21,
   "metadata": {},
   "outputs": [],
   "source": [
    "## The maximum amount that the query changes when removing an individual from the database"
   ]
  },
  {
   "cell_type": "code",
   "execution_count": 6,
   "metadata": {},
   "outputs": [
    {
     "data": {
      "text/plain": [
       "tensor(1)"
      ]
     },
     "execution_count": 6,
     "metadata": {},
     "output_type": "execute_result"
    }
   ],
   "source": [
    "sensitivy = 0\n",
    "\n",
    "def query(db):\n",
    "    return db.sum()\n",
    "\n",
    "db_result = query(db)\n",
    "for pdb in pdbs:\n",
    "    pdb_result = query(pdb)\n",
    "    diferential = torch.abs(pdb_result - db_result)\n",
    "    if diferential > sensitivy:\n",
    "        sensitivy = diferential\n",
    "    \n",
    "sensitivy"
   ]
  },
  {
   "cell_type": "code",
   "execution_count": 11,
   "metadata": {},
   "outputs": [
    {
     "data": {
      "text/plain": [
       "tensor(0.0005)"
      ]
     },
     "execution_count": 11,
     "metadata": {},
     "output_type": "execute_result"
    }
   ],
   "source": [
    "\n",
    "def sensitivity(query, n_entries = 1000):\n",
    "    max_distance = 0\n",
    "    db, dbs = get_db_parallel_dbs(n_entries)\n",
    "    values = query(db)\n",
    "    for idb in dbs:\n",
    "        distance = torch.abs(values - query(idb))\n",
    "        if distance > max_distance:\n",
    "            max_distance = distance\n",
    "    return max_distance\n",
    "\n",
    "def query(db):\n",
    "    return db.float().mean()\n",
    "\n",
    "sensitivity(query, 1000)"
   ]
  },
  {
   "cell_type": "code",
   "execution_count": 47,
   "metadata": {},
   "outputs": [
    {
     "name": "stdout",
     "output_type": "stream",
     "text": [
      "0\n",
      "tensor(1.)\n",
      "0\n",
      "0\n",
      "0\n",
      "0\n",
      "0\n",
      "0\n",
      "tensor(1.)\n",
      "0\n"
     ]
    }
   ],
   "source": [
    "# L1 Sensitivy for threshold\n",
    "\n",
    "def query_threshold(db, threshold = 5):\n",
    "    return (db.sum() > threshold).float()\n",
    "\n",
    "for i in range(10):\n",
    "    max_distance = sensitivity(query_threshold, n_entries = 10)\n",
    "    print(max_distance)"
   ]
  },
  {
   "cell_type": "code",
   "execution_count": 56,
   "metadata": {},
   "outputs": [
    {
     "name": "stdout",
     "output_type": "stream",
     "text": [
      "attack using sum query\n",
      "tensor(0, dtype=torch.uint8)\n",
      "tensor(0, dtype=torch.uint8)\n",
      "attack using mean query\n",
      "tensor(-0.0052)\n",
      "attack using threshold query\n",
      "tensor(0, dtype=torch.uint8)\n"
     ]
    }
   ],
   "source": [
    "# differencing attack using sum query\n",
    "\n",
    "num_entries = 100\n",
    "db, _ = get_db_parallel_dbs(num_entries)\n",
    "pdb = create_parallel_db(db, num_index = 10)\n",
    "\n",
    "print('attack using sum query')\n",
    "print(db[10])\n",
    "print(sum(db) - sum(pdb))\n",
    "\n",
    "# differencing attack using mean query\n",
    "print('attack using mean query')\n",
    "print(sum(db).float()/len(db) - sum(pdb).float()/len(pdb))\n",
    "\n",
    "# differencing attack using threshold query\n",
    "\n",
    "print('attack using threshold query')\n",
    "print((sum(db).float() > 49) - (sum(pdb).float() >49))"
   ]
  }
 ],
 "metadata": {
  "kernelspec": {
   "display_name": "Python 3",
   "language": "python",
   "name": "python3"
  },
  "language_info": {
   "codemirror_mode": {
    "name": "ipython",
    "version": 3
   },
   "file_extension": ".py",
   "mimetype": "text/x-python",
   "name": "python",
   "nbconvert_exporter": "python",
   "pygments_lexer": "ipython3",
   "version": "3.6.5"
  }
 },
 "nbformat": 4,
 "nbformat_minor": 2
}
