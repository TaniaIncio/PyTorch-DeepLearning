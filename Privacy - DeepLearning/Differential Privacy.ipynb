{
 "cells": [
  {
   "cell_type": "markdown",
   "metadata": {},
   "source": [
    "# Diferential Privacy"
   ]
  },
  {
   "cell_type": "code",
   "execution_count": 30,
   "metadata": {},
   "outputs": [],
   "source": [
    "# Configuration enviroment"
   ]
  },
  {
   "cell_type": "markdown",
   "metadata": {},
   "source": [
    "- conda create -n pysyft python=3\n",
    "- conda activate pysyft # some older version of conda require \"source activate pysyft\" instead.\n",
    "- conda install jupyter notebook\n",
    "- pip install syft\n",
    "- pip install numpy"
   ]
  },
  {
   "cell_type": "code",
   "execution_count": 26,
   "metadata": {},
   "outputs": [
    {
     "data": {
      "text/plain": [
       "tensor([1, 1, 0,  ..., 0, 0, 1], dtype=torch.uint8)"
      ]
     },
     "execution_count": 26,
     "metadata": {},
     "output_type": "execute_result"
    }
   ],
   "source": [
    "import torch\n",
    "\n",
    "num_entries = 3000\n",
    "db = torch.rand(num_entries) > 0.5\n",
    "db"
   ]
  },
  {
   "cell_type": "markdown",
   "metadata": {},
   "source": [
    "To ask the question \"When querying a database, if I removed someone from the database, would the output of the query be any different?\""
   ]
  },
  {
   "cell_type": "markdown",
   "metadata": {},
   "source": [
    "we must construct what we term \"parallel databases\" -> databases with one entry removed."
   ]
  },
  {
   "cell_type": "markdown",
   "metadata": {},
   "source": [
    "## Generate parallel database"
   ]
  },
  {
   "cell_type": "code",
   "execution_count": 28,
   "metadata": {},
   "outputs": [
    {
     "data": {
      "text/plain": [
       "(tensor([1, 1, 1], dtype=torch.uint8),\n",
       " [tensor([1, 1], dtype=torch.uint8),\n",
       "  tensor([1, 1], dtype=torch.uint8),\n",
       "  tensor([1, 1], dtype=torch.uint8)])"
      ]
     },
     "execution_count": 28,
     "metadata": {},
     "output_type": "execute_result"
    }
   ],
   "source": [
    "import torch\n",
    "\n",
    "num_entries = 3000\n",
    "\n",
    "def create_parallel_db(db, num_index):\n",
    "    return torch.cat((db[0:num_index], db[num_index + 1:len(db)]))\n",
    "\n",
    "def create_parallel_dbs(db):\n",
    "    parallel_dbs = list()\n",
    "    for i in range(len(db)):\n",
    "        parallel_dbs.append(create_parallel_db(db, i))\n",
    "    return parallel_dbs\n",
    "\n",
    "def get_db_parallel_dbs(num_entries):\n",
    "    db = torch.rand(num_entries) > 0.5\n",
    "    pdbs = create_parallel_dbs(db)\n",
    "    return db, pdbs\n",
    "\n",
    "db, pdbs = get_db_parallel_dbs(3)\n",
    "db, pdbs"
   ]
  },
  {
   "cell_type": "markdown",
   "metadata": {},
   "source": [
    "## Sensitivy"
   ]
  },
  {
   "cell_type": "code",
   "execution_count": 21,
   "metadata": {},
   "outputs": [],
   "source": [
    "## The maximum amount that the query changes when removing an individual from the database"
   ]
  },
  {
   "cell_type": "code",
   "execution_count": 29,
   "metadata": {},
   "outputs": [
    {
     "data": {
      "text/plain": [
       "tensor(1)"
      ]
     },
     "execution_count": 29,
     "metadata": {},
     "output_type": "execute_result"
    }
   ],
   "source": [
    "sensitivy = 0\n",
    "\n",
    "def query(db):\n",
    "    return db.sum()\n",
    "\n",
    "db_result = query(db)\n",
    "for pdb in pdbs:\n",
    "    pdb_result = query(pdb)\n",
    "    diferential = torch.abs(pdb_result - db_result)\n",
    "    if diferential > sensitivy:\n",
    "        sensitivy = diferential\n",
    "    \n",
    "sensitivy"
   ]
  }
 ],
 "metadata": {
  "kernelspec": {
   "display_name": "Python 3",
   "language": "python",
   "name": "python3"
  },
  "language_info": {
   "codemirror_mode": {
    "name": "ipython",
    "version": 3
   },
   "file_extension": ".py",
   "mimetype": "text/x-python",
   "name": "python",
   "nbconvert_exporter": "python",
   "pygments_lexer": "ipython3",
   "version": "3.7.3"
  }
 },
 "nbformat": 4,
 "nbformat_minor": 2
}
