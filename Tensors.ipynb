{
 "cells": [
  {
   "cell_type": "code",
   "execution_count": 2,
   "metadata": {},
   "outputs": [],
   "source": [
    "from __future__ import print_function"
   ]
  },
  {
   "cell_type": "code",
   "execution_count": 3,
   "metadata": {},
   "outputs": [
    {
     "name": "stdout",
     "output_type": "stream",
     "text": [
      "1.1.0\n"
     ]
    }
   ],
   "source": [
    "#ensure that GPU driver and CUDA is enabled and accesible by PyTorch\n",
    "import torch\n",
    "torch.cuda.is_available()\n",
    "\n",
    "print(torch.__version__)\n"
   ]
  },
  {
   "cell_type": "code",
   "execution_count": 4,
   "metadata": {},
   "outputs": [
    {
     "name": "stdout",
     "output_type": "stream",
     "text": [
      "first way  tensor(0.7956)\n",
      "second way  tensor([[0.7956]])\n"
     ]
    }
   ],
   "source": [
    "def activation(x) :\n",
    "    \"\"\"\n",
    "    x: torch.Tensor\n",
    "    sigmoid function\n",
    "    \"\"\"\n",
    "    return 1 / (1 + torch.exp(-x))\n",
    "\n",
    "#Generate data, reproducibility\n",
    "torch.manual_seed(7)\n",
    "#Generate random features : 1 row, 5 columns\n",
    "features = torch.randn((1, 5))\n",
    "#Generate a single value for bias\n",
    "bias = torch.randn ((1, 1)) \n",
    "#Generate true weights with the same shape than features, normal distribution\n",
    "weights = torch.rand_like(features)\n",
    "\n",
    "\"\"\"\n",
    "There are 2 ways to get output in the neural network\n",
    "- Sum of multiplication of tensor\n",
    "- Multiplication of matrices\n",
    "\"\"\"\n",
    "\n",
    "#Slow way: Sum and multiplication of single value\n",
    "output = activation(torch.sum(features * weights))\n",
    "print(\"first way \",output)\n",
    "#Multiplication of matrices, fast way\n",
    "#it can use : reshape, resize_ or view\n",
    "output2 = activation(torch.mm(features, weights.view(5,1)))\n",
    "print(\"second way \",output2)"
   ]
  },
  {
   "cell_type": "code",
   "execution_count": 5,
   "metadata": {},
   "outputs": [
    {
     "name": "stdout",
     "output_type": "stream",
     "text": [
      "tensor([1.0430])\n",
      "tensor([2.0129])\n"
     ]
    }
   ],
   "source": [
    "\"\"\"\n",
    "NOTE IN-PLACE Operations : _ form\n",
    "change the value of the tensor without making a copy\n",
    "\"\"\"\n",
    "x = torch.rand(1)\n",
    "y = torch.rand(1)\n",
    "x = x + y\n",
    "print(x)\n",
    "\n",
    "x.add_(y)\n",
    "print(x)"
   ]
  },
  {
   "cell_type": "code",
   "execution_count": 6,
   "metadata": {},
   "outputs": [
    {
     "name": "stdout",
     "output_type": "stream",
     "text": [
      "tensor([[0.3171]])\n"
     ]
    }
   ],
   "source": [
    "\"\"\"\n",
    "Stack tensors\n",
    "\"\"\"\n",
    "torch.manual_seed(7)\n",
    "features = torch.randn((1, 3))\n",
    "features.type()\n",
    "n_input = features.shape[1]\n",
    "n_hidden = 2\n",
    "n_output = 1\n",
    "\n",
    "W1 = torch.randn((n_input, n_hidden))\n",
    "W2 = torch.randn((n_hidden, n_output))\n",
    "\n",
    "b1 = torch.randn((1, n_hidden))\n",
    "b2 = torch.randn((1, n_output))\n",
    "\n",
    "#get output\n",
    "o_hidden = activation(torch.mm(features, W1) + b1)\n",
    "o_output = activation(torch.mm(o_hidden, W2) + b2)\n",
    "\n",
    "print(o_output)"
   ]
  },
  {
   "cell_type": "code",
   "execution_count": null,
   "metadata": {},
   "outputs": [],
   "source": []
  }
 ],
 "metadata": {
  "kernelspec": {
   "display_name": "Python 3",
   "language": "python",
   "name": "python3"
  },
  "language_info": {
   "codemirror_mode": {
    "name": "ipython",
    "version": 3
   },
   "file_extension": ".py",
   "mimetype": "text/x-python",
   "name": "python",
   "nbconvert_exporter": "python",
   "pygments_lexer": "ipython3",
   "version": "3.6.5"
  }
 },
 "nbformat": 4,
 "nbformat_minor": 2
}
