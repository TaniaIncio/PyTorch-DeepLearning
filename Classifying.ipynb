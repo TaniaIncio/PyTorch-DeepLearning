{
 "cells": [
  {
   "cell_type": "code",
   "execution_count": 21,
   "metadata": {},
   "outputs": [],
   "source": [
    "import torch\n",
    "from torchvision import datasets, transforms\n",
    "import helper\n",
    "from torch import optim\n",
    "from torch import nn\n",
    "\n",
    "#print(help(transforms.Compose))\n",
    "transform = transforms.Compose([transforms.ToTensor(),\n",
    "                                transforms.Normalize((0.5,), (0.5,))])\n",
    "\n",
    "trainset = datasets.FashionMNIST('~/.pytorch/F_MINIST_data/', download = True, train = True, transform = transform)\n",
    "trainloader = torch.utils.data.DataLoader(trainset, batch_size = 64, shuffle = True)\n",
    "\n",
    "testset = datasets.FashionMNIST('~/.pytorch/F_MINIST_data/', download = True, train = True, transform = transform)\n",
    "testloader = torch.utils.data.DataLoader(testset, batch_size = 64, shuffle = True)"
   ]
  },
  {
   "cell_type": "code",
   "execution_count": 25,
   "metadata": {},
   "outputs": [
    {
     "name": "stdout",
     "output_type": "stream",
     "text": [
      "torch.Size([64, 1, 28, 28])\n",
      "tensor([1, 1, 0, 8, 2, 7, 0, 1, 2, 4, 7, 5, 9, 7, 5, 4, 1, 5, 3, 9, 4, 9, 6, 5,\n",
      "        0, 9, 0, 5, 5, 3, 2, 5, 7, 7, 2, 2, 3, 1, 6, 3, 8, 3, 4, 3, 2, 6, 3, 6,\n",
      "        7, 5, 6, 3, 4, 3, 1, 0, 9, 4, 1, 9, 8, 4, 1, 7])\n"
     ]
    },
    {
     "data": {
      "image/png": "[encoded data removed]",
      "text/plain": [
       "<Figure size 432x288 with 1 Axes>"
      ]
     },
     "metadata": {},
     "output_type": "display_data"
    }
   ],
   "source": [
    "images, labels = next(iter(trainloader))\n",
    "helper.imshow(image[0,:])\n",
    "print(image.shape)\n",
    "print(label)"
   ]
  },
  {
   "cell_type": "code",
   "execution_count": 42,
   "metadata": {},
   "outputs": [
    {
     "name": "stdout",
     "output_type": "stream",
     "text": [
      "Training loss: 0.6891569720148277\n",
      "Training loss: 0.429375305819486\n",
      "Training loss: 0.382467757902547\n",
      "Training loss: 0.3532315382618767\n",
      "Training loss: 0.33202819794670607\n",
      "Training loss: 0.3137695399015697\n",
      "Training loss: 0.2972998163545691\n",
      "Training loss: 0.2873950766792684\n",
      "Training loss: 0.27678892258673843\n",
      "Training loss: 0.2664976475208299\n",
      "Training loss: 0.25791765599330857\n",
      "Training loss: 0.2502226885606739\n",
      "Training loss: 0.2447619579557671\n",
      "Training loss: 0.23535200916151247\n",
      "Training loss: 0.22929442511883372\n",
      "Training loss: 0.22451320257998986\n",
      "Training loss: 0.21663288299494715\n",
      "Training loss: 0.21077434170538428\n",
      "Training loss: 0.20605204915647696\n",
      "Training loss: 0.19940960203120703\n"
     ]
    }
   ],
   "source": [
    "n_input = 784\n",
    "n_hiddens = [128, 64, 32, 16]\n",
    "n_output = 10\n",
    "\n",
    "model = nn.Sequential(nn.Linear(n_input, n_hiddens[0]),\n",
    "                      nn.ReLU(),\n",
    "                      nn.Linear(n_hiddens[0], n_hiddens[1]),\n",
    "                      nn.ReLU(),\n",
    "                      nn.Linear(n_hiddens[1], n_hiddens[2]),\n",
    "                      nn.ReLU(),\n",
    "                      nn.Linear(n_hiddens[2], n_output),\n",
    "                      nn.LogSoftmax(dim = 1))\n",
    "\n",
    "# update weights\n",
    "optimizer = optim.SGD(model.parameters(), lr = 0.1)\n",
    "# epoch\n",
    "epoch = 5\n",
    "train_error = 0\n",
    "for i in range(epoch):\n",
    "    train_error = 0\n",
    "    for images, labels in trainloader:\n",
    "        optimizer.zero_grad()\n",
    "        images = images.view(images.shape[0], -1)\n",
    "        out = model(images)#fordward\n",
    "        loss = criterion(out, labels)#loss\n",
    "        loss.backward()# backward pass, get gradients\n",
    "        optimizer.step()\n",
    "        \n",
    "        train_error += loss.item()\n",
    "    else:\n",
    "        print(f\"Training loss: {train_error/len(trainloader)}\")\n",
    "\n",
    "#Training loss: 0.19940960203120703"
   ]
  },
  {
   "cell_type": "code",
   "execution_count": 48,
   "metadata": {},
   "outputs": [
    {
     "name": "stdout",
     "output_type": "stream",
     "text": [
      "torch.Size([1, 28, 28])\n",
      "torch.Size([1, 784])\n"
     ]
    },
    {
     "data": {
      "image/png": "[encoded data removed]",
      "text/plain": [
       "<Figure size 432x648 with 2 Axes>"
      ]
     },
     "metadata": {
      "image/png": {
       "height": 204,
       "width": 423
      }
     },
     "output_type": "display_data"
    }
   ],
   "source": [
    "%matplotlib inline\n",
    "%config InlineBackend.figure_format = 'retina'\n",
    "\n",
    "import helper\n",
    "\n",
    "images, labels = next(iter(testloader))\n",
    "img = images[0]\n",
    "print(img.shape)\n",
    "img = img.view(img.shape[0], -1)\n",
    "print(img.shape)\n",
    "out = model(img)\n",
    "ps = torch.exp(out)\n",
    "\n",
    "helper.view_classify(img.resize_(1, 28, 28), ps, version = 'Fashion')\n"
   ]
  }
 ],
 "metadata": {
  "kernelspec": {
   "display_name": "Python 3",
   "language": "python",
   "name": "python3"
  },
  "language_info": {
   "codemirror_mode": {
    "name": "ipython",
    "version": 3
   },
   "file_extension": ".py",
   "mimetype": "text/x-python",
   "name": "python",
   "nbconvert_exporter": "python",
   "pygments_lexer": "ipython3",
   "version": "3.6.5"
  }
 },
 "nbformat": 4,
 "nbformat_minor": 2
}
