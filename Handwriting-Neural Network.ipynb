{
 "cells": [
  {
   "cell_type": "code",
   "execution_count": 13,
   "metadata": {},
   "outputs": [],
   "source": [
    "#Import necessary packages\n",
    "\"\"\"\n",
    "Identify text in an image, I am using MNIST dataset,\n",
    "every image is 28x28 pixels\n",
    "Using method nn form pytorch\n",
    "\"\"\"\n",
    "\n",
    "%matplotlib inline\n",
    "%config InlineBackend.figure_format = 'retina'\n",
    "\n",
    "import numpy as np\n",
    "import torch\n",
    "#import helper\n",
    "import matplotlib.pyplot as plt\n"
   ]
  },
  {
   "cell_type": "code",
   "execution_count": 14,
   "metadata": {},
   "outputs": [
    {
     "name": "stdout",
     "output_type": "stream",
     "text": [
      "<class 'torch.Tensor'>\n",
      "torch.Size([64, 1, 28, 28])\n"
     ]
    },
    {
     "data": {
      "text/plain": [
       "<matplotlib.image.AxesImage at 0x122626c18>"
      ]
     },
     "execution_count": 14,
     "metadata": {},
     "output_type": "execute_result"
    },
    {
     "data": {
      "image/png": "[encoded data removed]",
      "text/plain": [
       "<Figure size 432x288 with 1 Axes>"
      ]
     },
     "metadata": {
      "image/png": {
       "height": 250,
       "width": 253
      }
     },
     "output_type": "display_data"
    }
   ],
   "source": [
    "#this dataset is available in torchvision package\n",
    "from torchvision import datasets, transforms\n",
    "#Define a transform to normalize the data\n",
    "transform = transforms.Compose([transforms.ToTensor(),\n",
    "                               transforms.Normalize((0.5,), (0.5,))\n",
    "                               ])\n",
    "#Download and load the training data\n",
    "trainset = datasets.MNIST('MNIST_data/', download=True, train=True, transform=transform)\n",
    "trainloader = torch.utils.data.DataLoader(trainset, batch_size=64, shuffle=True)\n",
    "\n",
    "#for image, label in trainloader:\n",
    " #   print(image)\n",
    "dataiter = iter(trainloader)\n",
    "images, label = dataiter.next()\n",
    "print(type(images))\n",
    "print(images.shape)\n",
    "\n",
    "plt.imshow(images[1].numpy().squeeze(), cmap='Greys_r')"
   ]
  },
  {
   "cell_type": "code",
   "execution_count": 17,
   "metadata": {},
   "outputs": [
    {
     "name": "stdout",
     "output_type": "stream",
     "text": [
      "tensor([[0.0008, 0.0008, 0.0008,  ..., 0.0008, 0.0008, 0.0008],\n",
      "        [0.0009, 0.0009, 0.0009,  ..., 0.0009, 0.0009, 0.0009],\n",
      "        [0.0008, 0.0008, 0.0008,  ..., 0.0008, 0.0008, 0.0008],\n",
      "        ...,\n",
      "        [0.0008, 0.0008, 0.0008,  ..., 0.0008, 0.0008, 0.0008],\n",
      "        [0.0006, 0.0006, 0.0006,  ..., 0.0006, 0.0006, 0.0006],\n",
      "        [0.0010, 0.0010, 0.0010,  ..., 0.0010, 0.0010, 0.0010]])\n",
      "tensor([1.0000, 1.0000, 1.0000, 1.0000, 1.0000, 1.0000, 1.0000, 1.0000, 1.0000,\n",
      "        1.0000, 1.0000, 1.0000, 1.0000, 1.0000, 1.0000, 1.0000, 1.0000, 1.0000,\n",
      "        1.0000, 1.0000, 1.0000, 1.0000, 1.0000, 1.0000, 1.0000, 1.0000, 1.0000,\n",
      "        1.0000, 1.0000, 1.0000, 1.0000, 1.0000, 1.0000, 1.0000, 1.0000, 1.0000,\n",
      "        1.0000, 1.0000, 1.0000, 1.0000, 1.0000, 1.0000, 1.0000, 1.0000, 1.0000,\n",
      "        1.0000, 1.0000, 1.0000, 1.0000, 1.0000, 1.0000, 1.0000, 1.0000, 1.0000,\n",
      "        1.0000, 1.0000, 1.0000, 1.0000, 1.0000, 1.0000, 1.0000, 1.0000, 1.0000,\n",
      "        1.0000])\n"
     ]
    }
   ],
   "source": [
    "\"\"\"\n",
    "This kind of networks are called fully-connected(Each unit in one layer is connected to each unit in the next layer)\n",
    "so the input to each layer must be a one-dimensional vector\n",
    "image is 28x28 I have to convert it to 1D vector = 784 -> 64 x 784\n",
    "FLATTENING 2D in 1D vector\n",
    "\"\"\"\n",
    "\n",
    "def activation_sigmoid(x):\n",
    "    return 1 / (1 + torch.exp(-x))\n",
    "\n",
    "torch.manual_seed(7)\n",
    "n_input = 784\n",
    "n_output = 10\n",
    "n_hidden = 256\n",
    "n_size = 64\n",
    "\n",
    "features = images.view(images.shape[0], -1)\n",
    "\n",
    "W1 = torch.rand((n_input, n_hidden))\n",
    "B1 = torch.randn( n_hidden)\n",
    "o_hidden = activation_sigmoid(torch.mm(features, W1) + B1)\n",
    "\n",
    "W2 = torch.rand((n_hidden, n_output))\n",
    "B2 = torch.randn(n_output)\n",
    "o_output = torch.mm(o_hidden, W2) + B2\n",
    "\n",
    "o_output.shape\n",
    "\n",
    "\n",
    "#dim = 0 takes the sum across the rows while dim = 0 takes sum across the columns\n",
    "def softmax(x):\n",
    "    return torch.exp(x)/torch.sum(torch.exp(x), dim = 1).view(-1, 1)\n",
    "\n",
    "print(softmax(features))\n",
    "print(torch.sum(softmax(features), dim = 1))\n"
   ]
  },
  {
   "cell_type": "markdown",
   "metadata": {},
   "source": [
    "### Using nn from Pytorch"
   ]
  },
  {
   "cell_type": "code",
   "execution_count": 3,
   "metadata": {},
   "outputs": [
    {
     "data": {
      "text/plain": [
       "Softmax()"
      ]
     },
     "execution_count": 3,
     "metadata": {},
     "output_type": "execute_result"
    }
   ],
   "source": [
    "#inheriting from nn.Module, it's mandatory\n",
    "from torch import nn\n",
    "\n",
    "class Network(nn.Module):\n",
    "    \n",
    "    def __init__(self):\n",
    "        super().__init__() #this create a class\n",
    "        \n",
    "#       nn.Linear\n",
    "#       Create a module for a linear transformation xW + b\n",
    "#       The module automatically creates the weight and bias tensors which we'll use in the forward method \n",
    "#       methods to access : net.hidden.weight and net.hidden.bias\n",
    "        self.hidden = nn.Linear(784, 256) \n",
    "        self.output = nn.Linear(256, 10)\n",
    "        \n",
    "        self.sigmoid = nn.Sigmoid()\n",
    "        self.softmax = nn.Softmax(dim = 1) #calculates softmax across the columns.\n",
    "        \n",
    "        #must have a forward method defined\n",
    "        def forward(self, x):\n",
    "            # Pass the input tensor through each of our operations\n",
    "            x = self.hidden(x)\n",
    "            x = self.sigmoid(x)\n",
    "            x = self.output(x)\n",
    "            x = self.softmax(x)\n",
    "            \n",
    "            return x\n",
    "\n",
    "# Create the network and look at it's text representation\n",
    "model = Network()\n",
    "model.softmax"
   ]
  },
  {
   "cell_type": "markdown",
   "metadata": {},
   "source": [
    "### or Using nn.funcional from Pytorch"
   ]
  },
  {
   "cell_type": "code",
   "execution_count": 4,
   "metadata": {},
   "outputs": [],
   "source": [
    "import torch.nn.functional as F\n",
    "\n",
    "class Network(nn.Module):\n",
    "    \n",
    "    def __init__(self):\n",
    "        super().__init__()\n",
    "        \n",
    "        self.hidden = nn.Linear(784, 256)\n",
    "        self.output = nn.Linear(256, 10)\n",
    "        \n",
    "    def forward(self, x):\n",
    "        x = F.sigmoid(self.hidden(x))\n",
    "        x = F.softmax(self.output(x))\n",
    "        \n",
    "        return x"
   ]
  },
  {
   "cell_type": "markdown",
   "metadata": {},
   "source": [
    "### Building Network"
   ]
  },
  {
   "cell_type": "markdown",
   "metadata": {},
   "source": [
    "<img src=\"assets/mlp_mnist.png\" width=600px>"
   ]
  },
  {
   "cell_type": "code",
   "execution_count": 9,
   "metadata": {},
   "outputs": [
    {
     "name": "stdout",
     "output_type": "stream",
     "text": [
      "Parameter containing:\n",
      "tensor([[ 0.0347, -0.0331,  0.0163,  ..., -0.0073, -0.0241,  0.0288],\n",
      "        [-0.0348,  0.0260,  0.0259,  ..., -0.0343,  0.0220, -0.0321],\n",
      "        [-0.0126,  0.0044, -0.0252,  ..., -0.0140,  0.0154, -0.0328],\n",
      "        ...,\n",
      "        [-0.0139,  0.0131, -0.0115,  ..., -0.0161, -0.0121, -0.0161],\n",
      "        [-0.0329,  0.0072,  0.0145,  ...,  0.0196,  0.0099,  0.0252],\n",
      "        [ 0.0259,  0.0296,  0.0280,  ..., -0.0046,  0.0258, -0.0311]],\n",
      "       requires_grad=True)\n",
      "Parameter containing:\n",
      "tensor([-0.0264,  0.0150,  0.0254,  0.0124, -0.0274, -0.0197,  0.0209,  0.0351,\n",
      "        -0.0238,  0.0004,  0.0231, -0.0340, -0.0151, -0.0102, -0.0044,  0.0263,\n",
      "         0.0237, -0.0353,  0.0332,  0.0188, -0.0286, -0.0083, -0.0031,  0.0166,\n",
      "        -0.0023,  0.0252,  0.0243,  0.0102,  0.0145, -0.0190,  0.0238,  0.0346,\n",
      "         0.0148,  0.0217,  0.0044, -0.0141,  0.0276, -0.0018, -0.0185,  0.0232,\n",
      "        -0.0357,  0.0213, -0.0064, -0.0198,  0.0214,  0.0169, -0.0064, -0.0335,\n",
      "        -0.0225, -0.0349, -0.0264, -0.0287, -0.0265, -0.0052,  0.0191, -0.0154,\n",
      "         0.0193,  0.0083, -0.0350, -0.0355, -0.0300, -0.0022,  0.0225,  0.0125,\n",
      "         0.0038,  0.0292,  0.0245,  0.0318,  0.0171,  0.0161, -0.0276, -0.0246,\n",
      "        -0.0345, -0.0352,  0.0118, -0.0107,  0.0068, -0.0085,  0.0081, -0.0033,\n",
      "         0.0343,  0.0089, -0.0232,  0.0334,  0.0138, -0.0214,  0.0134,  0.0136,\n",
      "        -0.0245,  0.0345, -0.0188, -0.0281, -0.0035,  0.0015, -0.0319, -0.0328,\n",
      "        -0.0262, -0.0168,  0.0298,  0.0343, -0.0036, -0.0268, -0.0053, -0.0322,\n",
      "        -0.0051, -0.0050, -0.0137, -0.0183, -0.0176, -0.0046,  0.0343, -0.0179,\n",
      "        -0.0077, -0.0347, -0.0344,  0.0072,  0.0171,  0.0151, -0.0152, -0.0046,\n",
      "        -0.0223, -0.0269,  0.0306,  0.0215, -0.0171, -0.0137, -0.0063,  0.0245],\n",
      "       requires_grad=True)\n"
     ]
    },
    {
     "data": {
      "text/plain": [
       "tensor([[ 0.0135,  0.0075, -0.0104,  ..., -0.0060,  0.0241, -0.0055],\n",
       "        [-0.0047, -0.0109,  0.0045,  ...,  0.0168,  0.0240, -0.0024],\n",
       "        [ 0.0100, -0.0025, -0.0106,  ..., -0.0125, -0.0035, -0.0051],\n",
       "        ...,\n",
       "        [-0.0131, -0.0057, -0.0022,  ..., -0.0040,  0.0082,  0.0029],\n",
       "        [-0.0041, -0.0001,  0.0075,  ...,  0.0020,  0.0003, -0.0251],\n",
       "        [ 0.0168, -0.0041, -0.0103,  ..., -0.0205,  0.0175, -0.0093]])"
      ]
     },
     "execution_count": 9,
     "metadata": {},
     "output_type": "execute_result"
    }
   ],
   "source": [
    "from torch import nn\n",
    "import torch.nn.functional as F\n",
    "\n",
    "class Network(nn.Module):\n",
    "    \n",
    "    def __init__(self):\n",
    "        super().__init__()\n",
    "        \n",
    "        self.fc1 = nn.Linear(784, 128)\n",
    "        self.fc2 = nn.Linear(128, 64)\n",
    "        self.fc3 = nn.Linear(64, 10)\n",
    "    \n",
    "    def forward(self, x):\n",
    "        x = F.relu(self.fc1(x))\n",
    "        x = F.relu(self.fc2(x))\n",
    "        x = F.softmax(self.fc3(x))\n",
    "        \n",
    "        return x\n",
    "\n",
    "model = Network()\n",
    "model\n"
   ]
  },
  {
   "cell_type": "code",
   "execution_count": 10,
   "metadata": {},
   "outputs": [
    {
     "name": "stdout",
     "output_type": "stream",
     "text": [
      "Parameter containing:\n",
      "tensor([[ 0.0135,  0.0075, -0.0104,  ..., -0.0060,  0.0241, -0.0055],\n",
      "        [-0.0047, -0.0109,  0.0045,  ...,  0.0168,  0.0240, -0.0024],\n",
      "        [ 0.0100, -0.0025, -0.0106,  ..., -0.0125, -0.0035, -0.0051],\n",
      "        ...,\n",
      "        [-0.0131, -0.0057, -0.0022,  ..., -0.0040,  0.0082,  0.0029],\n",
      "        [-0.0041, -0.0001,  0.0075,  ...,  0.0020,  0.0003, -0.0251],\n",
      "        [ 0.0168, -0.0041, -0.0103,  ..., -0.0205,  0.0175, -0.0093]],\n",
      "       requires_grad=True)\n",
      "Parameter containing:\n",
      "tensor([0., 0., 0., 0., 0., 0., 0., 0., 0., 0., 0., 0., 0., 0., 0., 0., 0., 0., 0., 0., 0., 0., 0., 0.,\n",
      "        0., 0., 0., 0., 0., 0., 0., 0., 0., 0., 0., 0., 0., 0., 0., 0., 0., 0., 0., 0., 0., 0., 0., 0.,\n",
      "        0., 0., 0., 0., 0., 0., 0., 0., 0., 0., 0., 0., 0., 0., 0., 0., 0., 0., 0., 0., 0., 0., 0., 0.,\n",
      "        0., 0., 0., 0., 0., 0., 0., 0., 0., 0., 0., 0., 0., 0., 0., 0., 0., 0., 0., 0., 0., 0., 0., 0.,\n",
      "        0., 0., 0., 0., 0., 0., 0., 0., 0., 0., 0., 0., 0., 0., 0., 0., 0., 0., 0., 0., 0., 0., 0., 0.,\n",
      "        0., 0., 0., 0., 0., 0., 0., 0.], requires_grad=True)\n"
     ]
    },
    {
     "data": {
      "text/plain": [
       "tensor([[-0.0087, -0.0095, -0.0132,  ..., -0.0116, -0.0126, -0.0165],\n",
       "        [ 0.0033, -0.0080,  0.0017,  ...,  0.0136,  0.0029,  0.0073],\n",
       "        [-0.0045, -0.0169, -0.0010,  ..., -0.0121,  0.0081,  0.0076],\n",
       "        ...,\n",
       "        [-0.0026, -0.0049,  0.0120,  ...,  0.0064,  0.0034,  0.0226],\n",
       "        [ 0.0191,  0.0066, -0.0137,  ...,  0.0034, -0.0066, -0.0051],\n",
       "        [ 0.0061,  0.0125, -0.0034,  ...,  0.0056, -0.0089,  0.0089]])"
      ]
     },
     "execution_count": 10,
     "metadata": {},
     "output_type": "execute_result"
    }
   ],
   "source": [
    "\n",
    "# The weights are automatically initialized for you\n",
    "print(model.fc1.weight)\n",
    "print(model.fc1.bias)\n",
    "\n",
    "# Modify the tensor in place\n",
    "# Set bias to all zeros\n",
    "# These are autograd Variables\n",
    "model.fc1.bias.data.fill_(0)\n",
    "\n",
    "# sample from random normal with standard dev = 0.01\n",
    "model.fc1.weight.data.normal_(std=0.01)"
   ]
  },
  {
   "cell_type": "code",
   "execution_count": 17,
   "metadata": {},
   "outputs": [
    {
     "name": "stdout",
     "output_type": "stream",
     "text": [
      "torch.Size([1, 784])\n"
     ]
    },
    {
     "name": "stderr",
     "output_type": "stream",
     "text": [
      "/Users/taniaincio/anaconda3/lib/python3.6/site-packages/ipykernel_launcher.py:16: UserWarning: Implicit dimension choice for softmax has been deprecated. Change the call to include dim=X as an argument.\n",
      "  app.launch_new_instance()\n"
     ]
    },
    {
     "data": {
      "image/png": "[encoded data removed]",
      "text/plain": [
       "<Figure size 432x648 with 2 Axes>"
      ]
     },
     "metadata": {
      "image/png": {
       "height": 224,
       "width": 423
      }
     },
     "output_type": "display_data"
    }
   ],
   "source": [
    "# Grab some data \n",
    "import helper\n",
    "dataiter = iter(trainloader)\n",
    "images, labels = dataiter.next()\n",
    "\n",
    "# Resize images into a 1D vector, new shape is (batch size, color channels, image pixels) \n",
    "images.resize_(64, 1, 784)\n",
    "# or images.resize_(images.shape[0], 1, 784) to automatically get batch size\n",
    "\n",
    "# Forward pass through the network\n",
    "img_idx = 0\n",
    "print(images[img_idx,:].shape)\n",
    "\n",
    "ps = model1.forward(images[img_idx,:])\n",
    "\n",
    "img = images[img_idx]\n",
    "helper.view_classify(img.view(1, 28, 28), ps)"
   ]
  }
 ],
 "metadata": {
  "kernelspec": {
   "display_name": "Python 3",
   "language": "python",
   "name": "python3"
  },
  "language_info": {
   "codemirror_mode": {
    "name": "ipython",
    "version": 3
   },
   "file_extension": ".py",
   "mimetype": "text/x-python",
   "name": "python",
   "nbconvert_exporter": "python",
   "pygments_lexer": "ipython3",
   "version": "3.6.5"
  }
 },
 "nbformat": 4,
 "nbformat_minor": 2
}
